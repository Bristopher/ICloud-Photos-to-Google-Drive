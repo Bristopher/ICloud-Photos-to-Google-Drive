{
  "nbformat": 4,
  "nbformat_minor": 0,
  "metadata": {
    "colab": {
      "name": "Icloud to GDrive v1.1.ipynb",
      "provenance": [],
      "collapsed_sections": [],
      "mount_file_id": "1P2ucRoavKSbmjqO92qwvI-pbIRs5dAQq",
      "authorship_tag": "ABX9TyPLXYpFfZKAOTeWZ2dcEbio",
      "include_colab_link": true
    },
    "kernelspec": {
      "display_name": "Python 3",
      "name": "python3"
    },
    "language_info": {
      "name": "python"
    }
  },
  "cells": [
    {
      "cell_type": "markdown",
      "metadata": {
        "id": "view-in-github",
        "colab_type": "text"
      },
      "source": [
        "<a href=\"https://colab.research.google.com/github/Bristopher/ICloud-Photos-to-Google-Drive/blob/main/Icloud_to_GDrive_v1_1.ipynb\" target=\"_parent\"><img src=\"https://colab.research.google.com/assets/colab-badge.svg\" alt=\"Open In Colab\"/></a>"
      ]
    },
    {
      "cell_type": "code",
      "metadata": {
        "id": "wWuvj6P0zAAy"
      },
      "source": [
        "from google.colab import drive\n",
        "drive.mount('/gdrive')"
      ],
      "execution_count": null,
      "outputs": []
    },
    {
      "cell_type": "code",
      "metadata": {
        "id": "xLpqW7nHz-c5"
      },
      "source": [
        "import os, zipfile, urllib.request, shutil\n",
        "\n",
        "SharedBy = input('On icloud page who is it shared by? (\"Shared by Christopher Buzicky\", enter \"Christopher Buzicky\") ');\n",
        "ClipsFolderName = input(\"Enter name for clips with date (Chris kickflips 1-3-22) \");\n",
        "ClipsFolderNameSub = input(\"Enter name for subfolder (just hit enter if you don't want a subfolder) \");\n",
        "FileToDl = input('Paste link from Network tab in DevConsole ');\n",
        "SharedByFullVarName = \"iCloud Photos from \" + SharedBy + \"/.\";\n",
        "ClipsFolderName = ClipsFolderName.replace(\"/\", \"-\");\n",
        "\n",
        "#Checks if user wants a sub folder, if they do it appends the folder name they chose\n",
        "if(ClipsFolderNameSub != \"\"):\n",
        "  ClipsFolderNameSub = ClipsFolderNameSub.replace(\"/\", \"-\");\n",
        "  ClipsFolderName = ClipsFolderName + \"/\" + ClipsFolderNameSub\n",
        "\n",
        "ZippedFile = '/content/IcloudDl/Extracted/' + SharedByFullVarName\n",
        "OutputToGDrive = '/gdrive/MyDrive/Skate Clips/' + ClipsFolderName\n",
        "\n",
        "#Creates local  workdir if it doesn't exist (exists if you want to rerun script in same session)\n",
        "mypath = ('/content/IcloudDl');\n",
        "if not os.path.isdir(mypath):\n",
        "   os.makedirs(mypath);\n",
        "\n",
        "#Creates Directory in your Google Drive if it doesn't exist\n",
        "if not os.path.isdir(OutputToGDrive):\n",
        "   os.makedirs(OutputToGDrive);\n",
        "\n",
        "#Downloads ICloud Share Link\n",
        "urllib.request.urlretrieve(FileToDl, '/content/IcloudDl/iCloud Photos.zip');\n",
        "\n",
        "\n",
        "#Unzip's Downloaded ICloud \n",
        "with zipfile.ZipFile('/content/IcloudDl/iCloud Photos.zip', 'r') as zip_ref:\n",
        "    zip_ref.extractall('/content/IcloudDl/Extracted/')\n",
        "\n",
        "#Finally copys unzipped content to GDrive\n",
        "!cp -a \"$ZippedFile\" \"$OutputToGDrive\"\n",
        "\n",
        "#If you want to rerun in the same session this gets rid of the possiblity of duplicates\n",
        "if os.path.exists('/content/IcloudDl'):\n",
        "   shutil.rmtree(mypath)"
      ],
      "execution_count": null,
      "outputs": []
    }
  ]
}