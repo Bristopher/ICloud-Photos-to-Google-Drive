{
  "nbformat": 4,
  "nbformat_minor": 0,
  "metadata": {
    "colab": {
      "name": "Icloud to GDrive v1.3 Subfolder or append filename option.ipynb",
      "provenance": [],
      "collapsed_sections": [],
      "history_visible": true,
      "mount_file_id": "1P2ucRoavKSbmjqO92qwvI-pbIRs5dAQq",
      "authorship_tag": "ABX9TyNKk3DU4maWX7vVrI33+TnT",
      "include_colab_link": true
    },
    "kernelspec": {
      "display_name": "Python 3",
      "name": "python3"
    },
    "language_info": {
      "name": "python"
    }
  },
  "cells": [
    {
      "cell_type": "markdown",
      "metadata": {
        "id": "view-in-github",
        "colab_type": "text"
      },
      "source": [
        "<a href=\"https://colab.research.google.com/github/Bristopher/ICloud-Photos-to-Google-Drive/blob/main/Icloud_to_GDrive_v1_3_Subfolder_or_append_filename_option.ipynb\" target=\"_parent\"><img src=\"https://colab.research.google.com/assets/colab-badge.svg\" alt=\"Open In Colab\"/></a>"
      ]
    },
    {
      "cell_type": "code",
      "metadata": {
        "id": "wWuvj6P0zAAy",
        "colab": {
          "base_uri": "https://localhost:8080/"
        },
        "outputId": "870b4852-7f81-466b-aecf-b960aecb8891"
      },
      "source": [
        "from google.colab import drive\n",
        "drive.mount('/gdrive')"
      ],
      "execution_count": 1,
      "outputs": [
        {
          "output_type": "stream",
          "name": "stdout",
          "text": [
            "Mounted at /gdrive\n"
          ]
        }
      ]
    },
    {
      "cell_type": "markdown",
      "source": [
        "Run this script to append \"\\~Starred\\~\" at beginning of filename for extra content to folder (like favorites / to organize) *If subfolder preferred run code at bottom instead"
      ],
      "metadata": {
        "id": "cCoMkvhtIspj"
      }
    },
    {
      "cell_type": "code",
      "source": [
        "## Added pre-filename text append option\n",
        "import os, zipfile, urllib.request, shutil\n",
        "from pathlib import Path\n",
        "\n",
        "###SharedBy = input('On icloud page after clicking download what text is under \"Check your downloads folder for:\"? (\"Check your downloads folder for: iCloud Photos from Christopher Buzicky\", enter \"iCloud Photos from Christopher Buzicky\") ');\n",
        "ClipsFolderName = input(\"Enter name for clips with date (1-3-22 Chris kickflips) \");\n",
        "ClipsFolderNameSub = input(\"Enter 'stard' to append ~Starred~ before each file or enter anything else to name create and export to subfolder (just hit enter for normal operation) \");\n",
        "FileToDl = input('Paste link from Network tab in DevConsole ');\n",
        "###SharedByFullVarName = SharedBy + \"/.\";\n",
        "ClipsFolderName = ClipsFolderName.replace(\"/\", \"-\");\n",
        "\n",
        "\n",
        "###################################################################################################################################################################################################################################################\n",
        "##Change 'Skate Clips' to whatever folder you want\n",
        "OutputToGDrive = '/gdrive/MyDrive/Skate Clips/' + ClipsFolderName\n",
        "###################################################################################################################################################################################################################################################\n",
        "\n",
        "#Creates local  workdir if it doesn't exist (exists if you want to rerun script in same session)\n",
        "mypath = ('/content/IcloudDl');\n",
        "if not os.path.isdir(mypath):\n",
        "   os.makedirs(mypath);\n",
        "\n",
        "#Creates Directory in your Google Drive if it doesn't exist\n",
        "if not os.path.isdir(OutputToGDrive):\n",
        "   os.makedirs(OutputToGDrive);\n",
        "\n",
        "#Downloads ICloud Share Link\n",
        "urllib.request.urlretrieve(FileToDl, '/content/IcloudDl/iCloud Photos.zip');\n",
        "\n",
        "#Unzip's Downloaded ICloud \n",
        "with zipfile.ZipFile('/content/IcloudDl/iCloud Photos.zip', 'r') as zip_ref:\n",
        "    zip_ref.extractall('/content/IcloudDl/Extracted/')\n",
        "\n",
        "\n",
        "#Appends name of Unzipped Folder to get full path\n",
        "UnZippedFile = r'/content/IcloudDl/Extracted/'\n",
        "UnZippedFileFolderName = [x for x in os.listdir(UnZippedFile) if os.path.isdir(os.path.join(UnZippedFile,x))] #Source: https://stackoverflow.com/questions/16455244/assign-a-variable-to-every-directory-inside-one-folder-python\n",
        "UnZippedFileNoDot = UnZippedFile + UnZippedFileFolderName[0]\n",
        "UnZippedFile = UnZippedFile + UnZippedFileFolderName[0] + \"/.\"; \n",
        "\n",
        "\n",
        "\n",
        "\n",
        "\n",
        "#Checks if user wants a sub folder, if they do it appends the folder name they chose\n",
        "ClipsFolderNameSub = ClipsFolderNameSub.replace(\"/\", \"-\");\n",
        "if(ClipsFolderNameSub != \"\"):\n",
        "  if(ClipsFolderNameSub == \"stard\"):\n",
        "    #code here to append '~Starred~ '\n",
        "    ListofUnZippedFiles = [x for x in os.listdir(UnZippedFile) if os.path.isfile(os.path.join(UnZippedFile,x))] #Source: https://stackoverflow.com/questions/16455244/assign-a-variable-to-every-directory-inside-one-folder-python\n",
        "    for x in ListofUnZippedFiles:\n",
        "      old_file = os.path.join(UnZippedFileNoDot, x)\n",
        "      y = r\"~Starred~ \" + x\n",
        "      new_file = os.path.join(UnZippedFileNoDot, y)\n",
        "      \n",
        "      os.replace(old_file, new_file)\n",
        "  else:\n",
        "    ClipsFolderName = ClipsFolderName + \"/\" + ClipsFolderNameSub\n",
        "\n",
        "\n",
        "\n",
        "\n",
        "#Finally copys unzipped content to GDrive\n",
        "!cp -a \"$UnZippedFile\" \"$OutputToGDrive\"\n",
        "\n",
        "#If you want to rerun in the same session this gets rid of the possiblity of duplicates\n",
        "if os.path.exists('/content/IcloudDl'):\n",
        "   shutil.rmtree(mypath)"
      ],
      "metadata": {
        "colab": {
          "base_uri": "https://localhost:8080/"
        },
        "id": "DpM7y4SuI7tt",
        "outputId": "da2dfdf7-052b-47a2-925f-588e6265743e"
      },
      "execution_count": 13,
      "outputs": [
        {
          "name": "stdout",
          "output_type": "stream",
          "text": [
            "Enter name for clips with date (1-3-22 Chris kickflips) 10-31-21 Karsen skates shopping cart\n",
            "Enter 'stard' to append ~Starred~ before each file or enter anything else to name create and export to subfolder (just hit enter for normal operation) stard\n",
            "Paste link from Network tab in DevConsole https://cvws.icloud-content.com/X/PdFIX90JR1aL8pCcFPl5gQ/U2thdGXCoFBhcmsuemlw?o=AqQpSJBdk7hiZGwBDVDaNhkpGBIJhtDJiNiygRU5FIht&v=1&x=3&e=1641289595115&tok=CnKZDod9G9NjhZE4CtKTmbJ30EoODlLlKeNEwsa-c78GdkYplVNFiZP9ub5Rh0ApiD44ZqIrnHvdbBs6LqVSAgKKDDRSS1B2KMJ2uaYvos4S6Ezn2fYFAytaRFJpqjTYYQf70QmXfpkl3hd_Qpw0Xx7nj4QSDAmnmjAEjBY6z-b2Ww&q=ApM5y5MNFbNuvntv9_rj6jB4IN0-DMzDX7b1_CUXpfSP&ckc=com.apple.photos.cloud&ckz=CMM-197F52F6-4F76-42B7-AA91-F4338183DCEA&y=1&p=60&s=hGZgqYXJESEeW7g5oaKAwNxIKz4\n"
          ]
        }
      ]
    }
  ]
}