{
  "nbformat": 4,
  "nbformat_minor": 0,
  "metadata": {
    "colab": {
      "name": "Icloud to GDrive v1.4.ipynb",
      "provenance": [],
      "collapsed_sections": [],
      "mount_file_id": "1P2ucRoavKSbmjqO92qwvI-pbIRs5dAQq",
      "authorship_tag": "ABX9TyObfIaLpfiOdb7vda3v277l",
      "include_colab_link": true
    },
    "kernelspec": {
      "display_name": "Python 3",
      "name": "python3"
    },
    "language_info": {
      "name": "python"
    }
  },
  "cells": [
    {
      "cell_type": "markdown",
      "metadata": {
        "id": "view-in-github",
        "colab_type": "text"
      },
      "source": [
        "<a href=\"https://colab.research.google.com/github/Bristopher/ICloud-Photos-to-Google-Drive/blob/main/Icloud_to_GDrive_v1_4.ipynb\" target=\"_parent\"><img src=\"https://colab.research.google.com/assets/colab-badge.svg\" alt=\"Open In Colab\"/></a>"
      ]
    },
    {
      "cell_type": "markdown",
      "source": [
        "First import your Google Drive"
      ],
      "metadata": {
        "id": "GNwZxcKplqxH"
      }
    },
    {
      "cell_type": "code",
      "metadata": {
        "id": "wWuvj6P0zAAy"
      },
      "source": [
        "from google.colab import drive\n",
        "drive.mount('/gdrive')"
      ],
      "execution_count": null,
      "outputs": []
    },
    {
      "cell_type": "markdown",
      "source": [
        "Run this script to append \"\\~Starred\\~\" at beginning of filename for extra content to folder (like favorites / to organize) \n",
        "\n",
        "    *Default download folder is \"Skate clips\", there's a good chance this isn't what you want. Go down to the 'variable' ascii art to change this"
      ],
      "metadata": {
        "id": "cCoMkvhtIspj"
      }
    },
    {
      "cell_type": "code",
      "source": [
        "## Added pre-filename text append option\n",
        "import os, zipfile, urllib.request, shutil\n",
        "from pathlib import Path\n",
        "\n",
        "###SharedBy = input('On icloud page after clicking download what text is under \"Check your downloads folder for:\"? (\"Check your downloads folder for: iCloud Photos from Christopher Buzicky\", enter \"iCloud Photos from Christopher Buzicky\") ');\n",
        "ClipsFolderName = input(\"Enter name for clips with date (1-3-22 Chris kickflips) \");\n",
        "ClipsFolderNameSub = input(\"Enter 'stard' to append ~Starred~ before each file or enter anything else to name create and export to subfolder (just hit enter for normal operation) \");\n",
        "FileToDl = input('Paste link from Network tab in DevConsole ');\n",
        "###SharedByFullVarName = SharedBy + \"/.\";\n",
        "ClipsFolderName = ClipsFolderName.replace(\"/\", \"-\");\n",
        "\n",
        "\n",
        "################################################################################################################################################################################################################################################### \n",
        "# __     __         _       _     _      #\n",
        "# \\ \\   / /_ _ _ __(_) __ _| |__ | | ___ #\n",
        "#  \\ \\ / / _` | '__| |/ _` | '_ \\| |/ _ \\#\n",
        "#   \\ V / (_| | |  | | (_| | |_) | |  __/#\n",
        "#    \\_/ \\__,_|_|  |_|\\__,_|_.__/|_|\\___|#\n",
        "#                                        #Change 'Skate Clips' to whatever folder you want to download to in your Google Drive\n",
        "OutputToGDrive = '/gdrive/MyDrive/Skate Clips/' + ClipsFolderName\n",
        "###################################################################################################################################################################################################################################################\n",
        "\n",
        "#Creates local  workdir if it doesn't exist (exists if you want to rerun script in same session)\n",
        "mypath = ('/content/IcloudDl');\n",
        "if not os.path.isdir(mypath):\n",
        "   os.makedirs(mypath);\n",
        "\n",
        "#Creates Directory in your Google Drive if it doesn't exist\n",
        "if not os.path.isdir(OutputToGDrive):\n",
        "   os.makedirs(OutputToGDrive);\n",
        "\n",
        "#Downloads ICloud Share Link\n",
        "urllib.request.urlretrieve(FileToDl, '/content/IcloudDl/iCloud Photos.zip');\n",
        "\n",
        "#Unzip's Downloaded ICloud \n",
        "with zipfile.ZipFile('/content/IcloudDl/iCloud Photos.zip', 'r') as zip_ref:\n",
        "    zip_ref.extractall('/content/IcloudDl/Extracted/')\n",
        "\n",
        "\n",
        "#Appends name of Unzipped Folder to get full path\n",
        "UnZippedFile = r'/content/IcloudDl/Extracted/'\n",
        "UnZippedFileFolderName = [x for x in os.listdir(UnZippedFile) if os.path.isdir(os.path.join(UnZippedFile,x))] #Source: https://stackoverflow.com/questions/16455244/assign-a-variable-to-every-directory-inside-one-folder-python\n",
        "UnZippedFileNoDot = UnZippedFile + UnZippedFileFolderName[0]\n",
        "UnZippedFile = UnZippedFile + UnZippedFileFolderName[0] + \"/.\"; \n",
        "\n",
        "\n",
        "\n",
        "#Checks if user wants a sub folder, if they do it appends the folder name they chose\n",
        "ClipsFolderNameSub = ClipsFolderNameSub.replace(\"/\", \"-\");\n",
        "if(ClipsFolderNameSub != \"\"):\n",
        "  if(ClipsFolderNameSub == \"stard\"):\n",
        "    #code here to append '~Starred~ '\n",
        "    ListofUnZippedFiles = [x for x in os.listdir(UnZippedFile) if os.path.isfile(os.path.join(UnZippedFile,x))] #Source: https://stackoverflow.com/questions/16455244/assign-a-variable-to-every-directory-inside-one-folder-python\n",
        "    for x in ListofUnZippedFiles:\n",
        "      old_file = os.path.join(UnZippedFileNoDot, x)\n",
        "      y = r\"~Starred~ \" + x\n",
        "      new_file = os.path.join(UnZippedFileNoDot, y)\n",
        "      \n",
        "      os.replace(old_file, new_file)\n",
        "  else:\n",
        "    ClipsFolderName = ClipsFolderName + \"/\" + ClipsFolderNameSub\n",
        "\n",
        "\n",
        "\n",
        "#Finally copys unzipped content to GDrive\n",
        "!cp -a \"$UnZippedFile\" \"$OutputToGDrive\"\n",
        "\n",
        "#If you want to rerun in the same session this gets rid of the possiblity of duplicates\n",
        "if os.path.exists('/content/IcloudDl'):\n",
        "   shutil.rmtree(mypath)"
      ],
      "metadata": {
        "id": "DpM7y4SuI7tt"
      },
      "execution_count": null,
      "outputs": []
    }
  ]
}