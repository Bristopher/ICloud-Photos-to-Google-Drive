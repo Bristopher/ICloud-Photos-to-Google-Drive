{
  "nbformat": 4,
  "nbformat_minor": 0,
  "metadata": {
    "colab": {
      "name": "Icloud to GDrive v1.6.ipynb",
      "provenance": [],
      "collapsed_sections": [],
      "mount_file_id": "1P2ucRoavKSbmjqO92qwvI-pbIRs5dAQq",
      "authorship_tag": "ABX9TyOFdgLZ8SYm78lMagW3OvO9",
      "include_colab_link": true
    },
    "kernelspec": {
      "display_name": "Python 3",
      "name": "python3"
    },
    "language_info": {
      "name": "python"
    }
  },
  "cells": [
    {
      "cell_type": "markdown",
      "metadata": {
        "id": "view-in-github",
        "colab_type": "text"
      },
      "source": [
        "<a href=\"https://colab.research.google.com/github/Bristopher/ICloud-Photos-to-Google-Drive/blob/main/Icloud_to_GDrive_v1_6.ipynb\" target=\"_parent\"><img src=\"https://colab.research.google.com/assets/colab-badge.svg\" alt=\"Open In Colab\"/></a>"
      ]
    },
    {
      "cell_type": "markdown",
      "source": [
        "First import your Google Drive"
      ],
      "metadata": {
        "id": "GNwZxcKplqxH"
      }
    },
    {
      "cell_type": "code",
      "metadata": {
        "id": "wWuvj6P0zAAy",
        "colab": {
          "base_uri": "https://localhost:8080/"
        },
        "outputId": "2e41baa0-3418-410f-9400-b3f180e35be0"
      },
      "source": [
        "from google.colab import drive\n",
        "drive.mount('/gdrive')"
      ],
      "execution_count": 1,
      "outputs": [
        {
          "output_type": "stream",
          "name": "stdout",
          "text": [
            "Mounted at /gdrive\n"
          ]
        }
      ]
    },
    {
      "cell_type": "markdown",
      "source": [
        "Run this script to append \"\\~Starred\\~\" at beginning of filename for extra content to folder (like favorites / to organize) \n",
        "\n",
        "    *Default download folder is \"Skate/Skate Clips\", there's a good chance this isn't what you want. Go down to the 'variable' ascii art to change this"
      ],
      "metadata": {
        "id": "cCoMkvhtIspj"
      }
    },
    {
      "cell_type": "code",
      "source": [
        "## Added functionality for a single unzipped file, next todo: fix variable renaming mess\n",
        "import os, zipfile, urllib.request, shutil\n",
        "from urllib.parse import urlparse\n",
        "from pathlib import Path\n",
        "\n",
        "\n",
        "###SharedBy = input('On icloud page after clicking download what text is under \"Check your downloads folder for:\"? (\"Check your downloads folder for: iCloud Photos from Christopher Buzicky\", enter \"iCloud Photos from Christopher Buzicky\") ');\n",
        "ClipsFolderName = input(\"Enter name for clips with date (2022 1-3-22 Chris kickflips) \");\n",
        "ClipsFolderNameSub = input(\"Enter 'stard' to append ~Starred~ before each file or 86 (to export file in different parent folder for seperate share options) enter anything else to name create and export to subfolder (just hit enter for normal operation) \");\n",
        "FileToDl = input('Paste link from Network tab in DevConsole ');\n",
        "###SharedByFullVarName = SharedBy + \"/.\";\n",
        "ClipsFolderName = ClipsFolderName.replace(\"/\", \"-\");\n",
        "TmpExtractedPath = '/content/IcloudDl/Extracted/'\n",
        "\n",
        "\n",
        "################################################################################################################################################################################################################################################### \n",
        "# __     __         _       _     _      #\n",
        "# \\ \\   / /_ _ _ __(_) __ _| |__ | | ___ #\n",
        "#  \\ \\ / / _` | '__| |/ _` | '_ \\| |/ _ \\#\n",
        "#   \\ V / (_| | |  | | (_| | |_) | |  __/#\n",
        "#    \\_/ \\__,_|_|  |_|\\__,_|_.__/|_|\\___|#\n",
        "#                                        #Change 'Skate Clips' to whatever folder you want to download to in your Google Drive\n",
        "OutputToGDrive = '/gdrive/MyDrive/Skate/Skate Clips/' + ClipsFolderName\n",
        "OutputToGDrive86 = r'/gdrive/MyDrive/Skate/Skate Clips ~Redacted~/' + ClipsFolderName\n",
        "###################################################################################################################################################################################################################################################\n",
        "\n",
        "#Creates local  workdir if it doesn't exist (exists if you want to rerun script in same session)\n",
        "mypath = ('/content/IcloudDl');\n",
        "mypathtwo = ('/content/IcloudDl/Extracted');\n",
        "if not os.path.isdir(mypath):\n",
        "   os.makedirs(mypath);\n",
        "   os.makedirs(mypathtwo);\n",
        "\n",
        "#Creates Directory in your Google Drive if it doesn't exist\n",
        "if (ClipsFolderNameSub == \"86\"):\n",
        "  OutputToGDrive = OutputToGDrive86\n",
        "\n",
        "if not os.path.isdir(OutputToGDrive):\n",
        "  os.makedirs(OutputToGDrive);\n",
        "\n",
        "DlUrlDirtyFileName = urlparse(FileToDl).path\n",
        "DlUrlCleanFileName = DlUrlDirtyFileName.split('/')[-1]\n",
        "DlUrlFileNameExtension = os.path.splitext(DlUrlCleanFileName)[-1]\n",
        "\n",
        "#######---------------------Instead revamp all to just retrieve file, then use method below with source to get file name then check if zip\n",
        "if (DlUrlFileNameExtension.casefold() == '.jpeg' or DlUrlFileNameExtension.casefold() == '.jpg' or DlUrlFileNameExtension.casefold() == '.mp4' or DlUrlFileNameExtension.casefold() == '.mov'):\n",
        "  DlUrlSingleFilePath =  os.path.join(TmpExtractedPath, DlUrlCleanFileName)\n",
        "  urllib.request.urlretrieve(FileToDl, DlUrlSingleFilePath);\n",
        "  UnZippedFile = DlUrlSingleFilePath\n",
        "  isZipFile = False;\n",
        "    \n",
        "\n",
        "elif(DlUrlFileNameExtension.casefold() == '.zip'):\n",
        "  #Downloads ICloud Share Link\n",
        "  urllib.request.urlretrieve(FileToDl, '/content/IcloudDl/iCloud Photos.zip');\n",
        "  #Unzip's Downloaded ICloud \n",
        "  if(zipfile.is_zipfile('/content/IcloudDl/iCloud Photos')):\n",
        "    with zipfile.ZipFile('/content/IcloudDl/iCloud Photos.zip', 'r') as zip_ref:\n",
        "        zip_ref.extractall(TmpExtractedPath)\n",
        "        isZipFile = True;    \n",
        "  #Appends name of Unzipped Folder to get full path\n",
        "  UnZippedFile = r'/content/IcloudDl/Extracted/'\n",
        "  UnZippedFileFolderName = [x for x in os.listdir(UnZippedFile) if os.path.isdir(os.path.join(UnZippedFile,x))] #Source: https://stackoverflow.com/questions/16455244/assign-a-variable-to-every-directory-inside-one-folder-python\n",
        "  UnZippedFileNoDot = UnZippedFile + UnZippedFileFolderName[0]\n",
        "  if(isZipFile):\n",
        "    UnZippedFile = UnZippedFile + UnZippedFileFolderName[0] + \"/.\"; \n",
        "\n",
        "################################################################################################################################################################################################################################################### \n",
        "# __     __         _       _     _      #\n",
        "# \\ \\   / /_ _ _ __(_) __ _| |__ | | ___ #\n",
        "#  \\ \\ / / _` | '__| |/ _` | '_ \\| |/ _ \\#\n",
        "#   \\ V / (_| | |  | | (_| | |_) | |  __/#\n",
        "#    \\_/ \\__,_|_|  |_|\\__,_|_.__/|_|\\___|#\n",
        "#                                        #Change \"stard\" for a different keyword, change \"~Starred~ \" to append a different text to each file\n",
        "#Checks if user wants a sub folder, if they do it appends the folder name they chose\n",
        "ClipsFolderNameSub = ClipsFolderNameSub.replace(\"/\", \"-\");\n",
        "if(ClipsFolderNameSub != \"\"):\n",
        "  if(ClipsFolderNameSub == \"stard\"):\n",
        "    #code here to append '~Starred~ '\n",
        "    if(os.path.isdir(UnZippedFile)):\n",
        "      ListofUnZippedFiles = [x for x in os.listdir(UnZippedFile) if os.path.isfile(os.path.join(UnZippedFile,x))] #Source: https://stackoverflow.com/questions/16455244/assign-a-variable-to-every-directory-inside-one-folder-python\n",
        "      for x in ListofUnZippedFiles:\n",
        "        old_file = os.path.join(UnZippedFileNoDot, x)\n",
        "        y = r\"~Starred~ \" + x\n",
        "        new_file = os.path.join(UnZippedFileNoDot, y)\n",
        "\n",
        "        os.replace(old_file, new_file)\n",
        "    \n",
        "    else:\n",
        "      OriginalUnZippedFileName = UnZippedFile\n",
        "      DlUrlCleanFileName = r\"~Starred~ \" + DlUrlCleanFileName\n",
        "      UnZippedFile =  r'/content/IcloudDl/Extracted/' + DlUrlCleanFileName\n",
        "      os.replace(OriginalUnZippedFileName, UnZippedFile)\n",
        "  \n",
        "  else:\n",
        "    ClipsFolderName = ClipsFolderName + \"/\" + ClipsFolderNameSub\n",
        "###################################################################################################################################################################################################################################################\n",
        "\n",
        "\n",
        "\n",
        "#Finally copys unzipped content to GDrive\n",
        "!cp -a \"$UnZippedFile\" \"$OutputToGDrive\"\n",
        "\n",
        "#If you want to rerun in the same session this gets rid of the possiblity of duplicates\n",
        "if os.path.exists('/content/IcloudDl'):\n",
        "   shutil.rmtree(mypath)"
      ],
      "metadata": {
        "id": "DpM7y4SuI7tt",
        "colab": {
          "base_uri": "https://localhost:8080/"
        },
        "outputId": "e2deed6e-67fe-42e4-94a2-be80b85ac816"
      },
      "execution_count": 38,
      "outputs": [
        {
          "name": "stdout",
          "output_type": "stream",
          "text": [
            "Enter name for clips with date (2022 1-3-22 Chris kickflips) 2022 test 1028\n",
            "Enter 'stard' to append ~Starred~ before each file or 86 (to export file in different parent folder for seperate share options) enter anything else to name create and export to subfolder (just hit enter for normal operation) 86\n",
            "Paste link from Network tab in DevConsole https://cvws.icloud-content.com/B/AeW_O6gzUOCfUuV-UF66pqud_GYrAd0POKrP6ohV8pLAqr4u5TEZaW7A/IMG_6786.JPG?o=AlpmNmpVu1AFZZ1WI09Eam_YeN6GFNCUjTvYq4oUssFi&v=1&x=3&a=CAogjy8dQAy_AKPNRKHQi68A6wKUfJRC-MZhY9OJbnUIQdASaxD97-Xu4i8Y_czB8OIvIgEAUgSd_GYrWgQZaW7AaiWmHCfl5CEnYoyKLMffplAARoRIhBWc8idxvaPdZEI-XCHhzq5NciUZRXlC_nNI_7L_yUvZ9mQRvWtxoGNJkWshR6mJR2Xug59J-70t&e=1641450333&fl=&r=6d93d70e-e74a-41c3-8656-8be173ebda4f-1&k=MwuaNqDPkUHDsv7KGuE0lQ&ckc=com.apple.photos.cloud&ckz=CMM-BE85455A-30D3-4217-9BDE-EB9A2AA9FCB8&y=1&p=60&s=6YEOt7BEpZboK08wVjqMPgh6fJE\n"
          ]
        }
      ]
    }
  ]
}